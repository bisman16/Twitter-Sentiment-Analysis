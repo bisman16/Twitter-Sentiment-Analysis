{
 "cells": [
  {
   "cell_type": "code",
   "execution_count": 65,
   "metadata": {
    "collapsed": true
   },
   "outputs": [],
   "source": [
    "# Make sure that you have installed the tweepy library \n",
    "# conda install -c conda-forge tweepy\n",
    "import math"
   ]
  },
  {
   "cell_type": "code",
   "execution_count": 66,
   "metadata": {
    "collapsed": true
   },
   "outputs": [],
   "source": [
    "path = ''"
   ]
  },
  {
   "cell_type": "code",
   "execution_count": 67,
   "metadata": {
    "collapsed": true
   },
   "outputs": [],
   "source": [
    "from __future__ import division"
   ]
  },
  {
   "cell_type": "code",
   "execution_count": 68,
   "metadata": {
    "collapsed": true
   },
   "outputs": [],
   "source": [
    "def getAuthData():\n",
    "    import csv\n",
    "    with open(path+'auth.txt', 'r') as f:\n",
    "        reader = csv.reader(f)\n",
    "        your_list = list(reader)\n",
    "\n",
    "    authdata = {}   \n",
    "    for element in your_list:\n",
    "        authdata[element[0]] = element[1]\n",
    "\n",
    "    return authdata"
   ]
  },
  {
   "cell_type": "code",
   "execution_count": 70,
   "metadata": {
    "collapsed": true
   },
   "outputs": [],
   "source": [
    "authdata = getAuthData()"
   ]
  },
  {
   "cell_type": "code",
   "execution_count": 71,
   "metadata": {
    "collapsed": true
   },
   "outputs": [],
   "source": [
    "import tweepy"
   ]
  },
  {
   "cell_type": "code",
   "execution_count": 72,
   "metadata": {
    "collapsed": true
   },
   "outputs": [],
   "source": [
    "def getTwitterData(searchTerm, authdata):\n",
    "\n",
    "    consumer_key = authdata['CONSUMER_KEY']\n",
    "    consumer_secret = authdata['CONSUMER_SECRET']\n",
    "    access_token = authdata['OAUTH_TOKEN']\n",
    "    access_token_secret = authdata['OAUTH_TOKEN_SECRET']\n",
    "    \n",
    "    auth = tweepy.OAuthHandler(consumer_key, consumer_secret)\n",
    "    auth.set_access_token(access_token, access_token_secret)\n",
    "    api = tweepy.API(auth)\n",
    "    \n",
    "    searchCount = 1800 # The number of tweets you want ... you never get that !\n",
    "     \n",
    "    results = api.search(q=searchTerm, count=searchCount)\n",
    "\n",
    "    print(\"Search completed ...\")\n",
    "    \n",
    "    twts = []\n",
    "    for result in results:\n",
    "        twts.append(result.text)    \n",
    "\n",
    "    print(\"List of tweets assembled ... for \", searchTerm)    \n",
    "        \n",
    "    return (twts)"
   ]
  },
  {
   "cell_type": "code",
   "execution_count": 73,
   "metadata": {},
   "outputs": [
    {
     "name": "stdout",
     "output_type": "stream",
     "text": [
      "Search completed ...\n",
      "List of tweets assembled ... for  @United\n"
     ]
    }
   ],
   "source": [
    "# Testing ...\n",
    "tweetTexts = getTwitterData('@United', authdata)"
   ]
  },
  {
   "cell_type": "code",
   "execution_count": 74,
   "metadata": {
    "collapsed": true
   },
   "outputs": [],
   "source": [
    "# Testing the function to write the tweet to a text file\n",
    "with open(path+'tw_delta.txt', 'w', encoding=\"utf-8\") as f:\n",
    "    for item in tweetTexts:\n",
    "        f.write(\"{}\\n\".format(item))    "
   ]
  },
  {
   "cell_type": "code",
   "execution_count": 75,
   "metadata": {},
   "outputs": [
    {
     "name": "stdout",
     "output_type": "stream",
     "text": [
      "Search completed ...\n",
      "List of tweets assembled ... for  @Delta\n",
      "Search completed ...\n",
      "List of tweets assembled ... for  @United\n",
      "Search completed ...\n",
      "List of tweets assembled ... for  @USAirways\n",
      "Search completed ...\n",
      "List of tweets assembled ... for  @Southwest\n",
      "Search completed ...\n",
      "List of tweets assembled ... for  @American\n",
      "Search completed ...\n",
      "List of tweets assembled ... for  @JetBlue\n"
     ]
    }
   ],
   "source": [
    "# Get and save twitter data\n",
    "\n",
    "tweetTexts = getTwitterData('@Delta', authdata)\n",
    "with open(path+'tw_delta.txt', 'w', encoding=\"utf-8\") as f:\n",
    "    for item in tweetTexts:\n",
    "        f.write(\"{}\\n\".format(item))  \n",
    "tweetTexts = getTwitterData('@United', authdata)\n",
    "with open(path+'tw_united.txt', 'w', encoding=\"utf-8\") as f:\n",
    "    for item in tweetTexts:\n",
    "        f.write(\"{}\\n\".format(item))  \n",
    "tweetTexts = getTwitterData('@USAirways', authdata)\n",
    "with open(path+'tw_usair.txt', 'w', encoding=\"utf-8\") as f:\n",
    "    for item in tweetTexts:\n",
    "        f.write(\"{}\\n\".format(item))  \n",
    "tweetTexts = getTwitterData('@Southwest', authdata)\n",
    "with open(path+'tw_southwest.txt', 'w', encoding=\"utf-8\") as f:\n",
    "    for item in tweetTexts:\n",
    "        f.write(\"{}\\n\".format(item))  \n",
    "tweetTexts = getTwitterData('@American', authdata)\n",
    "with open(path+'tw_american.txt', 'w', encoding=\"utf-8\") as f:\n",
    "    for item in tweetTexts:\n",
    "        f.write(\"{}\\n\".format(item))  \n",
    "tweetTexts = getTwitterData('@JetBlue', authdata)\n",
    "with open(path+'tw_jetblue.txt', 'w', encoding=\"utf-8\") as f:\n",
    "    for item in tweetTexts:\n",
    "        f.write(\"{}\\n\".format(item))  \n"
   ]
  },
  {
   "cell_type": "code",
   "execution_count": 76,
   "metadata": {
    "collapsed": true
   },
   "outputs": [],
   "source": [
    "# Get negative and positive word lists\n",
    "def getWordLists():\n",
    "    negative = [line.strip() for line in open(path+'neg.txt')]\n",
    "    negative = [n for n in negative if n != [] ]\n",
    "    negative = [n for n in negative if n != '' ]\n",
    "    negative = [n for n in negative if n[0] != ';']\n",
    "    \n",
    "    positive = [line.strip() for line in open(path+'pos.txt')]\n",
    "    positive = [n for n in positive if n != [] ]\n",
    "    positive = [n for n in positive if n != '' ]\n",
    "    positive = [n for n in positive if n[0] != ';']\n",
    "\n",
    "    return negative, positive"
   ]
  },
  {
   "cell_type": "code",
   "execution_count": 77,
   "metadata": {
    "collapsed": true
   },
   "outputs": [],
   "source": [
    "negative , positive= getWordLists()\n",
    "#print (negative)"
   ]
  },
  {
   "cell_type": "code",
   "execution_count": 78,
   "metadata": {
    "collapsed": true
   },
   "outputs": [],
   "source": [
    "# Data cleaning + Sentiment scores\n",
    "\n",
    "def remove_punctuation(s):\n",
    "    punctuation = \"!\\\"#$%&'()*+,-./:;<=>?@[\\\\]^_`{|}~\"\n",
    "    s_sans_punct = \"\"\n",
    "    for letter in s:\n",
    "        if (letter not in punctuation) and (letter in \"abcdefghijklmnopqrstuvwxyz \"):\n",
    "            s_sans_punct += letter\n",
    "    return s_sans_punct\n",
    "\n",
    "def getLowerCaseText(status_texts):\n",
    "    lowered_texts = []\n",
    "    for texts in status_texts:\n",
    "        try: \n",
    "            mytext = str(texts.lower())\n",
    "            lowered_texts.append(mytext)\n",
    "        except:\n",
    "            pass\n",
    "    return lowered_texts\n",
    "\n",
    "def getCleanedTweets(lowered_texts):\n",
    "    cleanedTweets = []\n",
    "    for text in lowered_texts:\n",
    "        wordlist = str(text).split()\n",
    "        wordlist_nopun = [ str(remove_punctuation(for_a_word)) for for_a_word in wordlist ]\n",
    "        cleanedTweets.append(wordlist_nopun)\n",
    "    return cleanedTweets\n",
    "\n",
    "def GetSentimentScores(cleanedTweets, negative, positive):\n",
    "    freqList = []\n",
    "    for eachTweet in cleanedTweets:\n",
    "        posScore = len(set(eachTweet) & set(positive))\n",
    "        negScore = len(set(eachTweet) & set(negative))\n",
    "        freqList.append(posScore-negScore)\n",
    "    return freqList"
   ]
  },
  {
   "cell_type": "code",
   "execution_count": 79,
   "metadata": {
    "collapsed": true
   },
   "outputs": [],
   "source": [
    "# Plotting routines"
   ]
  },
  {
   "cell_type": "code",
   "execution_count": 80,
   "metadata": {
    "collapsed": true
   },
   "outputs": [],
   "source": [
    "# Plotting routines\n",
    "\n",
    "def plotHist(freqList):\n",
    "    import matplotlib.pyplot as plt\n",
    "    plt.hist(freqList)\n",
    "\n",
    "def getTwitterScore(freqList):\n",
    "    veryNegative = len([x for x in freqList if x<=-2])\n",
    "    veryPositive = len([x for x in freqList if x>=+2])\n",
    "    try:\n",
    "        twitterScore = 100 * (float (veryPositive) / (veryNegative + veryPositive))\n",
    "        return round(twitterScore, 2)\n",
    "    except:\n",
    "        return(math.nan)"
   ]
  },
  {
   "cell_type": "code",
   "execution_count": 81,
   "metadata": {
    "collapsed": true
   },
   "outputs": [],
   "source": [
    "# Get airline data\n",
    "# This should work --- but is not working as of today \n",
    "# I have created an alternative function below - manual data entry ... ugh!!\n",
    "def getAirlineData():\n",
    "    from bs4 import BeautifulSoup as bs  \n",
    "    import requests\n",
    "    url = 'http://theacsi.org/index.php?option=com_content&view=article&id=149&catid=&Itemid=214&i=Airlines'\n",
    "    r = requests.get(url)\n",
    "    airlinesSatPage = r.text       \n",
    "    soup = bs(airlinesSatPage, \"html.parser\")\n",
    "\n",
    "    allRows = soup.findAll('tr',{'class':'Company'})\n",
    "    tableData = []\n",
    "    for row in allRows:\n",
    "        eachRow = []\n",
    "        cells = row.findAll('td',{'class':'sortcolumn Y2017'})\n",
    "        for cell in cells:\n",
    "            eachRow.append(str(cell.text.strip()))\n",
    "        tableData.append(eachRow)\n",
    "\n",
    "    airline = [ x[0] for x in tableData ]\n",
    "    score   = [ x[21] for x in tableData ]\n",
    "    airlineDict = { 'airlines': airline,\n",
    "                    'score'   : score\n",
    "                  }\n",
    "    \n",
    "    return airlineDict  "
   ]
  },
  {
   "cell_type": "code",
   "execution_count": 82,
   "metadata": {
    "collapsed": true
   },
   "outputs": [],
   "source": [
    "def getAirlineDataAlt():\n",
    "    airlineDict = {}\n",
    "    airlineDict = {'JetBlue':82, \n",
    "                   'Southwest':80,\n",
    "                   'American':76,\n",
    "                   'Delta':76,\n",
    "                   'United':70\n",
    "                  }\n",
    "    return airlineDict"
   ]
  },
  {
   "cell_type": "code",
   "execution_count": 83,
   "metadata": {
    "collapsed": true
   },
   "outputs": [],
   "source": [
    "airlineScores = getAirlineDataAlt()"
   ]
  },
  {
   "cell_type": "code",
   "execution_count": 84,
   "metadata": {},
   "outputs": [
    {
     "name": "stdout",
     "output_type": "stream",
     "text": [
      "{'JetBlue': 82, 'Southwest': 80, 'American': 76, 'Delta': 76, 'United': 70}\n"
     ]
    }
   ],
   "source": [
    "print(airlineScores)"
   ]
  },
  {
   "cell_type": "code",
   "execution_count": 85,
   "metadata": {
    "collapsed": true
   },
   "outputs": [],
   "source": [
    "def getScore(fileName):\n",
    "    fn = path+fileName+'.txt'\n",
    "    with open(fn,'r',encoding=\"utf-8\") as f:\n",
    "        tweetTexts = f.readlines()\n",
    "        \n",
    "    lowered_texts = getLowerCaseText(tweetTexts)\n",
    "    cleanedTweets = getCleanedTweets(lowered_texts)\n",
    "    freqList = GetSentimentScores(cleanedTweets, negative, positive)\n",
    "    score = getTwitterScore(freqList)\n",
    "    return(score)"
   ]
  },
  {
   "cell_type": "code",
   "execution_count": 86,
   "metadata": {},
   "outputs": [
    {
     "name": "stdout",
     "output_type": "stream",
     "text": [
      "{'American': 44.44, 'Delta': 80.0, 'JetBlue': 66.67, 'Southwest': 7.14, 'United': 61.54, 'USAirways': nan}\n"
     ]
    }
   ],
   "source": [
    "scores = {}\n",
    "\n",
    "scores = {'American': getScore('tw_american'),\n",
    "          'Delta': getScore('tw_delta'),\n",
    "          'JetBlue':  getScore('tw_jetblue'),\n",
    "          'Southwest': getScore('tw_southwest'),\n",
    "          'United': getScore('tw_united'),\n",
    "          'USAirways': getScore('tw_usair')\n",
    "         }\n",
    "\n",
    "print(scores)"
   ]
  },
  {
   "cell_type": "code",
   "execution_count": 87,
   "metadata": {},
   "outputs": [
    {
     "name": "stdout",
     "output_type": "stream",
     "text": [
      "           twitterScore\n",
      "American          44.44\n",
      "Delta             80.00\n",
      "JetBlue           66.67\n",
      "Southwest          7.14\n",
      "United            61.54\n",
      "USAirways           NaN\n"
     ]
    }
   ],
   "source": [
    "import pandas as pd\n",
    "twdf = pd.DataFrame.from_dict(scores, orient='index')\n",
    "twdf.columns = ['twitterScore']\n",
    "print(twdf)"
   ]
  },
  {
   "cell_type": "code",
   "execution_count": 88,
   "metadata": {},
   "outputs": [
    {
     "name": "stdout",
     "output_type": "stream",
     "text": [
      "           airlineScore\n",
      "JetBlue              82\n",
      "Southwest            80\n",
      "American             76\n",
      "Delta                76\n",
      "United               70\n"
     ]
    }
   ],
   "source": [
    "import pandas as pd\n",
    "airdf = pd.DataFrame.from_dict(airlineScores, orient='index')\n",
    "airdf.columns = ['airlineScore']\n",
    "print(airdf)"
   ]
  },
  {
   "cell_type": "code",
   "execution_count": 89,
   "metadata": {},
   "outputs": [
    {
     "data": {
      "text/plain": [
       "{'a', 'c'}"
      ]
     },
     "execution_count": 89,
     "metadata": {},
     "output_type": "execute_result"
    }
   ],
   "source": [
    "set([\"a\",\"b\",\"c\"]) & set([\"a\",\"d\",\"c\"])\n"
   ]
  },
  {
   "cell_type": "code",
   "execution_count": 90,
   "metadata": {
    "collapsed": true
   },
   "outputs": [],
   "source": [
    "result = pd.concat([twdf, airdf], axis=1, join='inner')"
   ]
  },
  {
   "cell_type": "code",
   "execution_count": 91,
   "metadata": {},
   "outputs": [
    {
     "name": "stdout",
     "output_type": "stream",
     "text": [
      "           twitterScore  airlineScore\n",
      "American          44.44            76\n",
      "Delta             80.00            76\n",
      "JetBlue           66.67            82\n",
      "Southwest          7.14            80\n",
      "United            61.54            70\n"
     ]
    }
   ],
   "source": [
    "print(result)"
   ]
  },
  {
   "cell_type": "code",
   "execution_count": 92,
   "metadata": {},
   "outputs": [
    {
     "data": {
      "text/plain": [
       "<matplotlib.collections.PathCollection at 0x2b57f19b9e8>"
      ]
     },
     "execution_count": 92,
     "metadata": {},
     "output_type": "execute_result"
    },
    {
     "data": {
      "image/png": "[encoded data removed]",
      "text/plain": [
       "<matplotlib.figure.Figure at 0x2b57f07bac8>"
      ]
     },
     "metadata": {},
     "output_type": "display_data"
    }
   ],
   "source": [
    "%matplotlib inline\n",
    "import matplotlib.pyplot as plt\n",
    "plt.scatter(result['twitterScore'], result['airlineScore'])"
   ]
  }
 ],
 "metadata": {
  "anaconda-cloud": {},
  "kernelspec": {
   "display_name": "Python 3",
   "language": "python",
   "name": "python3"
  },
  "language_info": {
   "codemirror_mode": {
    "name": "ipython",
    "version": 3
   },
   "file_extension": ".py",
   "mimetype": "text/x-python",
   "name": "python",
   "nbconvert_exporter": "python",
   "pygments_lexer": "ipython3",
   "version": "3.6.2"
  }
 },
 "nbformat": 4,
 "nbformat_minor": 1
}
